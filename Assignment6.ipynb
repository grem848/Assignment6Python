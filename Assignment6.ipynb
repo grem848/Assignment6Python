{
 "cells": [
  {
   "cell_type": "markdown",
   "metadata": {},
   "source": [
    "## Assignment 6\n",
    "This assignment requires you to work with Facebook network data, data preprocessing and `networkx`. Note that this is real data from real people!"
   ]
  },
  {
   "cell_type": "markdown",
   "metadata": {},
   "source": [
    "### Part 1: Preparing data\n",
    "\n",
    "The dataset you will be working with is available here: https://snap.stanford.edu/data/egonets-Facebook.html\n",
    "\n",
    "You're first job is to \n",
    "1. Download the data\n",
    "2. Unpack the data\n",
    "3. Import the data as an undirected graph in `networkx`\n",
    "\n",
    "This should **all be done from your notebook in Python**. This is an important step for you to automate data preprocessing. \n",
    "\n",
    "Note: this could take a while, so if you feel adventurous you can use the `multiprocessing` library to speed things up.\n",
    "\n",
    "Hand-in:\n",
    "* The code for downloading, unpacking and loading the dataset"
   ]
  },
  {
   "cell_type": "code",
   "execution_count": 1,
   "metadata": {},
   "outputs": [
    {
     "name": "stdout",
     "output_type": "stream",
     "text": [
      "Downloading file to ./facebook.tar.gz\n"
     ]
    }
   ],
   "source": [
    "# Downloading file\n",
    "import os\n",
    "import urllib.request as req\n",
    "from urllib.parse import urlparse\n",
    "import sys\n",
    "\n",
    "def download(urls):\n",
    "    for url in urls:\n",
    "        urlstring = urlparse(url)\n",
    "        urlsplit = urlstring.path.split(\"/\")\n",
    "        to = urlsplit[-1]\n",
    "        req.urlretrieve(url, to)\n",
    "        print(\"Downloading file to ./\", to, sep=\"\")\n",
    "\n",
    "download([\"https://snap.stanford.edu/data/facebook_combined.txt.gz\"])\n"
   ]
  },
  {
   "cell_type": "code",
   "execution_count": 1,
   "metadata": {},
   "outputs": [],
   "source": [
    "import gzip\n",
    "import shutil\n",
    "\n",
    "with gzip.open('facebook_combined.txt.gz', 'rb') as f_in:\n",
    "    with open('facebook_combined.txt', 'wb') as f_out:\n",
    "        shutil.copyfileobj(f_in, f_out)"
   ]
  },
  {
   "cell_type": "markdown",
   "metadata": {},
   "source": [
    "## Part 2: Analyse the data\n",
    "\n",
    "Now, let's take a look at the network you imported. \n",
    "\n",
    "By *node degree* we mean the *number of edges to and from a node*. This is different in an undirected network, where in-degree == out-degree, and a directed network where in-degree != out-degree.\n",
    "\n",
    "By *graph degree* we mean the *number of edges in the entire network*.\n",
    "\n",
    "Hand-in code that display:\n",
    "* The number of nodes in the network\n",
    "* The number of edges in the network\n",
    "* The average degree in the network\n",
    "* A visualisation of the network inside your notebook"
   ]
  },
  {
   "cell_type": "code",
   "execution_count": 3,
   "metadata": {
    "scrolled": true
   },
   "outputs": [
    {
     "name": "stdout",
     "output_type": "stream",
     "text": [
      "Name: \n",
      "Type: Graph\n",
      "Number of nodes: 4039\n",
      "Number of edges: 88234\n",
      "Average degree:  43.6910\n"
     ]
    }
   ],
   "source": [
    "import networkx as nx\n",
    "g = nx.read_edgelist('facebook_combined.txt')\n",
    "print(nx.info(g))"
   ]
  },
  {
   "cell_type": "code",
   "execution_count": 24,
   "metadata": {},
   "outputs": [
    {
     "data": {
      "image/png": "[encoded data removed]",
      "text/plain": [
       "<Figure size 432x288 with 1 Axes>"
      ]
     },
     "metadata": {},
     "output_type": "display_data"
    }
   ],
   "source": [
    "import matplotlib.pyplot as plt\n",
    "nx.draw(g)\n",
    "plt.show()"
   ]
  },
  {
   "cell_type": "markdown",
   "metadata": {},
   "source": [
    "### Part 3: Find the most popular people\n",
    "\n",
    "We're naturally interested in who has the most friends, so we want to extract **top 10**. That is, the 10 most connected people.\n",
    "\n",
    "Hand-in:\n",
    "* Code that extracts and reports the 10 people with the most connections in the network"
   ]
  },
  {
   "cell_type": "code",
   "execution_count": 30,
   "metadata": {},
   "outputs": [
    {
     "name": "stdout",
     "output_type": "stream",
     "text": [
      "[('11', 0.00024764735017335313), ('12', 0.00024764735017335313), ('15', 0.00024764735017335313), ('18', 0.00024764735017335313), ('37', 0.00024764735017335313), ('43', 0.00024764735017335313), ('74', 0.00024764735017335313), ('114', 0.00024764735017335313), ('209', 0.00024764735017335313), ('210', 0.00024764735017335313)]\n"
     ]
    },
    {
     "data": {
      "text/plain": [
       "[('11', 4038.0),\n",
       " ('12', 4038.0),\n",
       " ('15', 4038.0),\n",
       " ('18', 4038.0),\n",
       " ('37', 4038.0),\n",
       " ('43', 4038.0),\n",
       " ('74', 4038.0),\n",
       " ('114', 4038.0),\n",
       " ('209', 4038.0),\n",
       " ('210', 4038.0)]"
      ]
     },
     "execution_count": 30,
     "metadata": {},
     "output_type": "execute_result"
    }
   ],
   "source": [
    "#creates a dict of nodes with degree centrality as the value.\n",
    "my_dict = nx.degree_centrality(g)\n",
    "\n",
    "# sorting the dict by values\n",
    "sorted_by_value = sorted(my_dict.items(), key=lambda kv: kv[1])\n",
    "\n",
    "#getting top 10\n",
    "print(sorted_by_value[:10])\n",
    "new_tuple = [(nodeid, 1/value) for nodeid, value in sorted_by_value[:10]]\n",
    "new_tuple\n",
    "\n"
   ]
  }
 ],
 "metadata": {
  "kernelspec": {
   "display_name": "Python 3",
   "language": "python",
   "name": "python3"
  }
 },
 "nbformat": 4,
 "nbformat_minor": 2
}
